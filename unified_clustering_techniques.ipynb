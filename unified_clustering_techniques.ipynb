{
 "cells": [
  {
   "cell_type": "code",
   "execution_count": 10,
   "id": "9291304c-3e83-4f3e-b854-382b730b2764",
   "metadata": {},
   "outputs": [],
   "source": [
    "import numpy as np\n",
    "import matplotlib.pyplot as plt\n",
    "from sklearn.datasets import make_blobs, make_moons\n",
    "from scipy.cluster.hierarchy import linkage, dendrogram, fcluster, cophenet\n",
    "from scipy.spatial.distance import pdist, squareform\n",
    "from sklearn.preprocessing import StandardScaler\n",
    "from sklearn.utils import Bunch\n",
    "from collections import Counter\n",
    "import pandas as pd\n",
    "import scipy"
   ]
  },
  {
   "cell_type": "code",
   "execution_count": 11,
   "id": "a15d21b6-8059-431d-b6bf-135753037188",
   "metadata": {},
   "outputs": [],
   "source": [
    "def cargar_mat(path: str):\n",
    "    m = scipy.io.loadmat(path, squeeze_me=True, struct_as_record=False)\n",
    "\n",
    "    X_train = np.asarray(m[\"x_entena\"], dtype=np.float32)\n",
    "    X_test  = np.asarray(m[\"x_prueba\"],  dtype=np.float32)\n",
    "    y_train = np.asarray(m[\"y_entrena\"]).reshape(-1).astype(np.int64)\n",
    "\n",
    "    # Paquetes listos\n",
    "    datasets_np = {\"train\": {\"X\": X_train, \"y\": y_train},\n",
    "                   \"test\":  {\"X\": X_test}}\n",
    "\n",
    "    df_train = pd.DataFrame(X_train)\n",
    "    df_train[\"y\"] = y_train\n",
    "    df_test  = pd.DataFrame(X_test)\n",
    "\n",
    "    feat_names = [f\"x{i}\" for i in range(X_train.shape[1])]\n",
    "    train_bunch = Bunch(data=X_train, target=y_train, feature_names=feat_names)\n",
    "    test_bunch  = Bunch(data=X_test,  feature_names=feat_names)\n",
    "\n",
    "    return datasets_np, df_train, df_test, train_bunch, test_bunch\n",
    "\n",
    "\n",
    "datasets_np, df_train, df_test, train_bunch, test_bunch = cargar_mat(\"dato_taller.mat\")"
   ]
  },
  {
   "cell_type": "code",
   "execution_count": 13,
   "id": "3d88f31c-5917-4d09-bf80-d42fa59a330c",
   "metadata": {},
   "outputs": [
    {
     "name": "stdout",
     "output_type": "stream",
     "text": [
      "<class 'pandas.core.frame.DataFrame'>\n",
      "RangeIndex: 1000 entries, 0 to 999\n",
      "Data columns (total 21 columns):\n",
      " #   Column  Non-Null Count  Dtype  \n",
      "---  ------  --------------  -----  \n",
      " 0   0       1000 non-null   float32\n",
      " 1   1       1000 non-null   float32\n",
      " 2   2       1000 non-null   float32\n",
      " 3   3       1000 non-null   float32\n",
      " 4   4       1000 non-null   float32\n",
      " 5   5       1000 non-null   float32\n",
      " 6   6       1000 non-null   float32\n",
      " 7   7       1000 non-null   float32\n",
      " 8   8       1000 non-null   float32\n",
      " 9   9       1000 non-null   float32\n",
      " 10  10      1000 non-null   float32\n",
      " 11  11      1000 non-null   float32\n",
      " 12  12      1000 non-null   float32\n",
      " 13  13      1000 non-null   float32\n",
      " 14  14      1000 non-null   float32\n",
      " 15  15      1000 non-null   float32\n",
      " 16  16      1000 non-null   float32\n",
      " 17  17      1000 non-null   float32\n",
      " 18  18      1000 non-null   float32\n",
      " 19  19      1000 non-null   float32\n",
      " 20  y       1000 non-null   int64  \n",
      "dtypes: float32(20), int64(1)\n",
      "memory usage: 86.1 KB\n"
     ]
    }
   ],
   "source": [
    "df_train.info()"
   ]
  },
  {
   "cell_type": "code",
   "execution_count": 14,
   "id": "34906b1d-324f-46cd-a2fa-fd0c2d54110c",
   "metadata": {},
   "outputs": [
    {
     "name": "stdout",
     "output_type": "stream",
     "text": [
      "<class 'pandas.core.frame.DataFrame'>\n",
      "RangeIndex: 10000 entries, 0 to 9999\n",
      "Data columns (total 20 columns):\n",
      " #   Column  Non-Null Count  Dtype  \n",
      "---  ------  --------------  -----  \n",
      " 0   0       10000 non-null  float32\n",
      " 1   1       10000 non-null  float32\n",
      " 2   2       10000 non-null  float32\n",
      " 3   3       10000 non-null  float32\n",
      " 4   4       10000 non-null  float32\n",
      " 5   5       10000 non-null  float32\n",
      " 6   6       10000 non-null  float32\n",
      " 7   7       10000 non-null  float32\n",
      " 8   8       10000 non-null  float32\n",
      " 9   9       10000 non-null  float32\n",
      " 10  10      10000 non-null  float32\n",
      " 11  11      10000 non-null  float32\n",
      " 12  12      10000 non-null  float32\n",
      " 13  13      10000 non-null  float32\n",
      " 14  14      10000 non-null  float32\n",
      " 15  15      10000 non-null  float32\n",
      " 16  16      10000 non-null  float32\n",
      " 17  17      10000 non-null  float32\n",
      " 18  18      10000 non-null  float32\n",
      " 19  19      10000 non-null  float32\n",
      "dtypes: float32(20)\n",
      "memory usage: 781.4 KB\n"
     ]
    }
   ],
   "source": [
    "df_test.info()"
   ]
  },
  {
   "cell_type": "code",
   "execution_count": null,
   "id": "5b5aa9f8-f8f5-46c6-82ce-8131e608226e",
   "metadata": {},
   "outputs": [],
   "source": []
  }
 ],
 "metadata": {
  "kernelspec": {
   "display_name": "Python 3 (ipykernel)",
   "language": "python",
   "name": "python3"
  },
  "language_info": {
   "codemirror_mode": {
    "name": "ipython",
    "version": 3
   },
   "file_extension": ".py",
   "mimetype": "text/x-python",
   "name": "python",
   "nbconvert_exporter": "python",
   "pygments_lexer": "ipython3",
   "version": "3.12.4"
  }
 },
 "nbformat": 4,
 "nbformat_minor": 5
}
