import numpy as np
import matplotlib.pyplot as plt
from sklearn.datasets import make_blobs, make_moons
from scipy.cluster.hierarchy import linkage, dendrogram, fcluster, cophenet
from scipy.spatial.distance import pdist, squareform
from sklearn.preprocessing import StandardScaler
from collections import Counter
import pandas as pd
import scipy


mat_data = scipy.io.loadmat('data_clusters.mat')
# Assuming mat_data is the dictionary loaded from the .mat file
# Extract the array 'X'
#print(mat_data)
X_data = mat_data['X']

# Convert the NumPy array to a pandas DataFrame
df = pd.DataFrame(X_data, columns=['x', 'y']) # You can name the columns appropriately

# Display the first few rows of the DataFrame
display(df.head())


scaler = StandardScaler()
df[['x', 'y']] = scaler.fit_transform(df[['x', 'y']]) 


df.info()


df.describe()


plt.figure(figsize=(8, 6))
plt.scatter(df['x'], df['y'], s=10)
plt.xlabel('x')
plt.ylabel('y')
plt.title('Scatter Plot of Data Features')
plt.grid(True)
plt.show()


# Dataset simulado
X, y = make_blobs(n_samples=20, centers=3, random_state=42, cluster_std=1.2)

# Diferentes criterios de enlace
methods = ["single", "complete", "average", "ward"]

plt.figure(figsize=(12,8))
for i, method in enumerate(methods, 1):
    Z = linkage(df, method=method)
    plt.subplot(2,2,i)
    dendrogram(Z, truncate_mode="lastp", p=10)
    plt.title(f"Linkage: {method}")
plt.tight_layout()
plt.show()




# Dataset compacto (blobs)
Xb, _ = make_blobs(n_samples=20, centers=3, cluster_std=1.0, random_state=7)

# Dataset alargado/no convexo (lunas)
Xm, _ = make_moons(n_samples=20, noise=0.06, random_state=7)

# Distancias por pares (euclídea)
Db = squareform(pdist(df, metric="euclidean"))
Dm = squareform(pdist(df, metric="euclidean"))

Db[:6,:6], Dm[:6,:6]


# Crear una figura para los dendrogramas
plt.figure(figsize=(12,8))
Z_dict = {}  # Diccionario para almacenar los resultados

for i, method in enumerate(methods, 1):
    Z = linkage(df, method=method, metric="euclidean")
    Z_dict[method] = Z  # Guardar Z para usar después
    coph_corr, coph_dists = cophenet(Z, pdist(df))
    
    plt.subplot(2,2,i)
    dendrogram(Z, labels=np.arange(len(df)))
    plt.title(f"Blobs - linkage={method} | cophenetic corr≈{coph_corr:.3f}")
    plt.xlabel("índice de muestra")
    plt.ylabel("altura (distancia)")

plt.tight_layout()
plt.show()

# Imprimir las primeras fusiones para cada método fuera del bucle
for method in methods:
    print(method, "primeras filas de Z:\n", Z_dict[method][:5])


# Dataset lunas
X, _ = make_moons(n_samples=200, noise=0.08, random_state=7)

methods = ["single", "complete", "average", "ward"]
cut_heights = {"single":0.5, "complete":2.0, "average":1.3, "ward":3.0}  # cortes aproximados

# Dendrogramas
plt.figure(figsize=(12,8))
for i, m in enumerate(methods,1):
    Z = linkage(df, method=m)
    plt.subplot(2,2,i)
    dendrogram(Z)
    plt.axhline(cut_heights[m], color="r", ls="--")
    plt.title(f"Dendrograma - {m}")
plt.tight_layout(); plt.show()

# Dispersión coloreada
plt.figure(figsize=(12,8))
for i, m in enumerate(methods,1):
    Z = linkage(df, method=m)
    labels = fcluster(Z, t=cut_heights[m], criterion="distance")
    plt.subplot(2,2,i)
    plt.scatter(df['x'], df['y'], c=labels)
    plt.title(f"{m} linkage · corte altura={cut_heights[m]}")
plt.tight_layout()
plt.show()


# Dataset lunas
X, _ = make_moons(n_samples=200, noise=0.08, random_state=7)

methods = ["single", "complete", "average", "ward"]
cut_heights = {"single":0.5, "complete":2.0, "average":1.3, "ward":3.0}

plt.figure(figsize=(10,6))
for i, m in enumerate(methods,1):
    Z = linkage(df, method=m)
    labels = fcluster(Z, t=cut_heights[m], criterion="distance")
    counts = Counter(labels)
    
    plt.subplot(2,2,i)
    plt.bar(counts.keys(), counts.values())
    plt.title(f"Tamaños de clúster · {m}")
    plt.xlabel("Clúster"); plt.ylabel("nº de puntos")
plt.tight_layout(); plt.show()


plt.figure(figsize=(10,6))
for i, m in enumerate(methods,1):
    Z = linkage(df, method=m)
    heights = Z[:,2]
    
    plt.subplot(2,2,i)
    plt.hist(heights, bins=15, color="gray", edgecolor="black")
    plt.title(f"Distancias de fusión · {m}")
    plt.xlabel("altura"); plt.ylabel("frecuencia")
plt.tight_layout(); plt.show()



