import numpy as np
import matplotlib.pyplot as plt
from sklearn.datasets import make_blobs, make_moons
from scipy.cluster.hierarchy import linkage, dendrogram, fcluster, cophenet
from scipy.spatial.distance import pdist, squareform
from sklearn.preprocessing import StandardScaler
from sklearn.utils import Bunch
from collections import Counter
import pandas as pd
import scipy


def cargar_mat(path: str):
    m = scipy.io.loadmat(path, squeeze_me=True, struct_as_record=False)

    X_train = np.asarray(m["x_entena"], dtype=np.float32)
    X_test  = np.asarray(m["x_prueba"],  dtype=np.float32)
    y_train = np.asarray(m["y_entrena"]).reshape(-1).astype(np.int64)

    # Paquetes listos
    datasets_np = {"train": {"X": X_train, "y": y_train},
                   "test":  {"X": X_test}}

    df_train = pd.DataFrame(X_train)
    df_train["y"] = y_train
    df_test  = pd.DataFrame(X_test)

    feat_names = [f"x{i}" for i in range(X_train.shape[1])]
    train_bunch = Bunch(data=X_train, target=y_train, feature_names=feat_names)
    test_bunch  = Bunch(data=X_test,  feature_names=feat_names)

    return datasets_np, df_train, df_test, train_bunch, test_bunch


datasets_np, df_train, df_test, train_bunch, test_bunch = cargar_mat("dato_taller.mat")


df_train.info()


df_test.info()



